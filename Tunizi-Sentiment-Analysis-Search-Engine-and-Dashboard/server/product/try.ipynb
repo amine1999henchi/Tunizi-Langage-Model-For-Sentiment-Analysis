{
 "cells": [
  {
   "cell_type": "code",
   "execution_count": 13,
   "metadata": {},
   "outputs": [],
   "source": [
    "import pickle\n",
    "import json\n",
    "import pandas as pd\n",
    "from collections import Counter \n",
    "def calcul(filename):\n",
    "    pickled_model = pickle.load(open('../IA/finalized_model.pkl', 'rb'))\n",
    "    vectorizer = pickle.load(open(\"../IA/vectorizer.pkl\", 'rb'))\n",
    "    test=pd.read_csv(\"../uploads/{}\".format(filename))\n",
    "    \n",
    "    \n",
    "    \n",
    "   \n",
    "\n",
    "    pos = 0\n",
    "    neg = 0\n",
    "    for text in test[\"text\"]:\n",
    "\n",
    "        textinput1 = vectorizer.transform([text])\n",
    "# (document id,tokens_id)       tf-idf score of a given token in a given document\n",
    "\n",
    "        svm_test = pickled_model.predict(textinput1)\n",
    "        svm_test = svm_test-1\n",
    "        if svm_test == 1:\n",
    "            pos += 1\n",
    "        else:\n",
    "            neg += 1\n",
    "    x = {\n",
    "    \"positive\": pos,\n",
    "    \"neg\": neg,\n",
    "    \"freq\":Counter(\" \".join(test[\"text\"]).split()).most_common(70)\n",
    "    }\n",
    "    result = json.dumps(x)\n",
    "    return(result)"
   ]
  },
  {
   "cell_type": "code",
   "execution_count": 14,
   "metadata": {},
   "outputs": [
    {
     "data": {
      "text/plain": [
       "'{\"positive\": 8, \"neg\": 9, \"freq\": [[\"w\", 12], [\"fiha\", 4], [\"barcha\", 2], [\"ye\", 2], [\"bravo\", 2], [\"ya\", 2], [\"slim\", 2], [\"aaindou\", 1], [\"hak\", 1], [\"teflim\", 1], [\"kadhalik\", 1], [\"gernabou\", 1], [\"9a7ba\", 1], [\"saber\", 1], [\"barra\", 1], [\"rabbi\", 1], [\"m3ak\", 1], [\"5ouya\", 1], [\"cha3\\\\u00e9bbb\", 1], [\"ta7aaaaannnnnnnnnnn\", 1], [\"tfouuhh\", 1], [\"rabi\", 1], [\"y5alihoulek\", 1], [\"yfar7ek\", 1], [\"bih\", 1], [\"inchallah\", 1], [\"itchoufo\", 1], [\"kif\", 1], [\"matetmana\", 1], [\"a3mal\", 1], [\"madersa\", 1], [\"3askareya\", 1], [\"ya9raw\", 1], [\"louled\", 1], [\"lkolla\", 1], [\"ya9ra\", 1], [\"weldek\", 1], [\"belhi\", 1], [\"va\", 1], [\"wo\", 1], [\"yezi\", 1], [\"met\", 1], [\"fechfich\", 1], [\"bel\", 1], [\"khedheb\", 1], [\"riaasa\", 1], [\"mch\", 1], [\"9lam\", 1], [\"mta3ek\", 1], [\"enti\", 1], [\"bal3out\", 1], [\"affarieyt\", 1], [\"aka\", 1], [\"tofla\", 1], [\"shbeha\", 1], [\"7ata\", 1], [\"howa\", 1], [\"brnemj\", 1], [\"bch\", 1], [\"ytfrej\", 1], [\"fih\", 1], [\"el\", 1], [\"wa7d\", 1], [\"m3a\", 1], [\"darhom\", 1], [\"hay\", 1], [\"el5idma\", 1], [\"s7i7a\", 1], [\"to9tol\", 1], [\"hal\", 1]]}'"
      ]
     },
     "execution_count": 14,
     "metadata": {},
     "output_type": "execute_result"
    }
   ],
   "source": [
    "calcul(\"Test11.csv\")"
   ]
  },
  {
   "cell_type": "code",
   "execution_count": null,
   "metadata": {},
   "outputs": [],
   "source": []
  }
 ],
 "metadata": {
  "interpreter": {
   "hash": "6459a9ff623c0164109f7651345b6e32190aea954771bcf073052b42212a36a0"
  },
  "kernelspec": {
   "display_name": "Python 3.8.8 ('base')",
   "language": "python",
   "name": "python3"
  },
  "language_info": {
   "codemirror_mode": {
    "name": "ipython",
    "version": 3
   },
   "file_extension": ".py",
   "mimetype": "text/x-python",
   "name": "python",
   "nbconvert_exporter": "python",
   "pygments_lexer": "ipython3",
   "version": "3.8.8"
  },
  "orig_nbformat": 4
 },
 "nbformat": 4,
 "nbformat_minor": 2
}
